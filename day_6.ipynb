{
 "cells": [
  {
   "cell_type": "raw",
   "metadata": {},
   "source": [
    "q18)\n",
    "\n",
    "A website requires the users to input username and password to register.\n",
    "Write a program to check the validity of password input by users.\n",
    "\n",
    "Following are the criteria for checking the password:\n",
    "\n",
    "At least 1 letter between [a-z]\n",
    "At least 1 number between [0-9]\n",
    "At least 1 letter between [A-Z]\n",
    "At least 1 character from [$#@]\n",
    "Minimum length of transaction password: 6\n",
    "Maximum length of transaction password: 12\n",
    "\n",
    "Your program should accept a sequence of comma separated passwords and will check them according to the above criteria.\n",
    "                           Passwords that match the criteria are to be printed, each separated by a comma."
   ]
  },
  {
   "cell_type": "code",
   "execution_count": 17,
   "metadata": {},
   "outputs": [
    {
     "name": "stdout",
     "output_type": "stream",
     "text": [
      "adfhwofu$,@@345fjA\n",
      "['adfhwofu$', '@@345fjA']\n"
     ]
    }
   ],
   "source": [
    "import re\n",
    "x=[]\n",
    "x=input().split(\",\")\n",
    "print (x)"
   ]
  },
  {
   "cell_type": "code",
   "execution_count": 19,
   "metadata": {},
   "outputs": [
    {
     "name": "stdout",
     "output_type": "stream",
     "text": [
      "@@345fjA\n"
     ]
    }
   ],
   "source": [
    "valids=[]\n",
    "for i in x:\n",
    "    cnt=0\n",
    "    cnt+=bool(len(i)>=6 and len(i)<=12)\n",
    "    cnt+=bool(re.search(\"[a-z]\",i))\n",
    "    cnt+=bool(re.search(\"[0-9]\",i))\n",
    "    cnt+=bool(re.search(\"[@#$]\",i))\n",
    "    cnt+=bool(re.search(\"[A-Z]\",i))\n",
    "    if cnt==5:\n",
    "        valids.append(i)\n",
    "for i in valids:\n",
    "    print(i,sep=\",\")"
   ]
  },
  {
   "cell_type": "raw",
   "metadata": {},
   "source": [
    "\n",
    "Q19)\n",
    "\n",
    "You are required to write a program to sort the (name, age, score) tuples by ascending order where name is string, age and score are numbers. The tuples are input by console. The sort criteria is:\n",
    "\n",
    "1: Sort based on name\n",
    "2: Then sort based on age\n",
    "3: Then sort by score\n",
    "The priority is that name > age > score.\n",
    "\n",
    "If the following tuples are given as input to the program:\n",
    "\n",
    "Tom,19,80\n",
    "John,20,90\n",
    "Jony,17,91\n",
    "Jony,17,93\n",
    "Json,21,85\n",
    "Then, the output of the program should be:\n",
    "\n",
    "[('John', '20', '90'), ('Jony', '17', '91'), ('Jony', '17', '93'), ('Json', '21', '85'), ('Tom', '19', '80')]\n"
   ]
  },
  {
   "cell_type": "code",
   "execution_count": null,
   "metadata": {},
   "outputs": [],
   "source": [
    "x=[]\n",
    "\n",
    "while True:\n",
    "    s=input().split(\",\")\n",
    "    if not s[0]:\n",
    "        break\n",
    "    x.append(tuple(s))\n",
    "\n",
    "x.sort(key=lambda x :(x[0],int(x[1]),int(x[2])))\n",
    "    \n",
    "print(x)    \n",
    "    \n"
   ]
  },
  {
   "cell_type": "code",
   "execution_count": null,
   "metadata": {},
   "outputs": [],
   "source": []
  }
 ],
 "metadata": {
  "kernelspec": {
   "display_name": "Python 3.7.4 64-bit ('base': conda)",
   "language": "python",
   "name": "python37464bitbasecondaab7d046bcad54c8a9a62680c277c6be6"
  },
  "language_info": {
   "codemirror_mode": {
    "name": "ipython",
    "version": 3
   },
   "file_extension": ".py",
   "mimetype": "text/x-python",
   "name": "python",
   "nbconvert_exporter": "python",
   "pygments_lexer": "ipython3",
   "version": "3.7.4"
  }
 },
 "nbformat": 4,
 "nbformat_minor": 2
}
