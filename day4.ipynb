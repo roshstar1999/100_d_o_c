{
 "cells": [
  {
   "cell_type": "raw",
   "metadata": {},
   "source": [
    "Q1)\n",
    "Write a program that accepts a sentence and calculate the number of upper case letters and lower case letters.\n",
    "\n",
    "Suppose the following input is supplied to the program:\n",
    "\n",
    "Hello world!\n",
    "Then, the output should be:\n",
    "\n",
    "UPPER CASE 1\n",
    "LOWER CASE 9\n"
   ]
  },
  {
   "cell_type": "code",
   "execution_count": 3,
   "metadata": {},
   "outputs": [
    {
     "name": "stdout",
     "output_type": "stream",
     "text": [
      "Hello CL\n",
      "UPPER CASE 3\n",
      "LOWER CASE 4\n"
     ]
    }
   ],
   "source": [
    "x=input()\n",
    "upcase=0\n",
    "lowcase=0\n",
    "\n",
    "for i in x:\n",
    "    if i==\" \":\n",
    "        continue\n",
    "    if i==i.upper():\n",
    "        upcase+=1\n",
    "    elif i==i.lower():\n",
    "        lowcase+=1\n",
    "print(\"UPPER CASE \",upcase)\n",
    "print(\"LOWER CASE \",lowcase)"
   ]
  },
  {
   "cell_type": "raw",
   "metadata": {},
   "source": [
    "an imp thing:when to use raw_input(): when its confirm you are wanting string as input\n",
    "                           input(): for normal input(where input can be anything int,list,string,etc),\n",
    "        "
   ]
  },
  {
   "cell_type": "raw",
   "metadata": {},
   "source": [
    "Q15)\n",
    "Write a program that computes the value of a+aa+aaa+aaaa with a given digit as the value of a.\n",
    "\n",
    "Suppose the following input is supplied to the program:\n",
    "\n",
    "9\n",
    "Then, the output should be:\n",
    "\n",
    "11106"
   ]
  },
  {
   "cell_type": "code",
   "execution_count": 8,
   "metadata": {},
   "outputs": [
    {
     "name": "stdout",
     "output_type": "stream",
     "text": [
      "12\n",
      "12243648\n"
     ]
    }
   ],
   "source": [
    "x=(input())\n",
    "print(int(x)+int(x*2)+int(x*3)+int(x*4))\n"
   ]
  },
  {
   "cell_type": "code",
   "execution_count": 7,
   "metadata": {},
   "outputs": [
    {
     "name": "stdout",
     "output_type": "stream",
     "text": [
      "12\n",
      "12243648\n"
     ]
    }
   ],
   "source": []
  },
  {
   "cell_type": "code",
   "execution_count": null,
   "metadata": {},
   "outputs": [],
   "source": []
  }
 ],
 "metadata": {
  "kernelspec": {
   "display_name": "Python 3.7.4 64-bit ('base': conda)",
   "language": "python",
   "name": "python37464bitbasecondaab7d046bcad54c8a9a62680c277c6be6"
  },
  "language_info": {
   "codemirror_mode": {
    "name": "ipython",
    "version": 3
   },
   "file_extension": ".py",
   "mimetype": "text/x-python",
   "name": "python",
   "nbconvert_exporter": "python",
   "pygments_lexer": "ipython3",
   "version": "3.7.4"
  }
 },
 "nbformat": 4,
 "nbformat_minor": 2
}
